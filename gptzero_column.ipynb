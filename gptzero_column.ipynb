{
 "cells": [
  {
   "attachments": {},
   "cell_type": "markdown",
   "metadata": {},
   "source": [
    "# Imports and Data Loading"
   ]
  },
  {
   "cell_type": "code",
   "execution_count": 1,
   "metadata": {},
   "outputs": [],
   "source": [
    "import pandas as pd\n",
    "import requests\n",
    "import os"
   ]
  },
  {
   "cell_type": "code",
   "execution_count": 2,
   "metadata": {},
   "outputs": [],
   "source": [
    "DATADIR = r\"D:\\data\\claim_identification_corpus\""
   ]
  },
  {
   "cell_type": "code",
   "execution_count": 3,
   "metadata": {},
   "outputs": [],
   "source": [
    "essays = pd.read_excel(os.path.join(DATADIR, \"essay_scores.xlsx\"))"
   ]
  },
  {
   "attachments": {},
   "cell_type": "markdown",
   "metadata": {},
   "source": [
    "# Extract Essays"
   ]
  },
  {
   "cell_type": "code",
   "execution_count": 15,
   "metadata": {},
   "outputs": [],
   "source": [
    "def get_essay(filename):\n",
    "    df = pd.read_csv(os.path.join(DATADIR, \"Data\", filename + \".csv\"))\n",
    "\n",
    "    res = []\n",
    "\n",
    "    ind_para = 1\n",
    "    while ind_para < len(df):\n",
    "        this_para = df['discourse_part'] == \"Paragraph_\" + str(ind_para)\n",
    "        if not any(this_para):\n",
    "            break\n",
    "        text = ' '.join(df['discourse_text'][this_para])\n",
    "        res.append(text)\n",
    "        ind_para += 1\n",
    "    \n",
    "    return '\\n'.join(res)"
   ]
  },
  {
   "cell_type": "code",
   "execution_count": 16,
   "metadata": {},
   "outputs": [],
   "source": [
    "essays['Text'] = essays['Essay'].apply(get_essay)"
   ]
  },
  {
   "cell_type": "code",
   "execution_count": 17,
   "metadata": {},
   "outputs": [
    {
     "data": {
      "text/plain": [
       "4273"
      ]
     },
     "execution_count": 17,
     "metadata": {},
     "output_type": "execute_result"
    }
   ],
   "source": [
    "max(essays['Text'].apply(len))"
   ]
  },
  {
   "attachments": {},
   "cell_type": "markdown",
   "metadata": {},
   "source": [
    "# Extract Essays by Annotation"
   ]
  },
  {
   "cell_type": "code",
   "execution_count": 17,
   "metadata": {},
   "outputs": [],
   "source": [
    "all_essays = []\n",
    "\n",
    "for i, row in essays.iterrows():\n",
    "    try:\n",
    "        filepath = f\"{DATADIR}/Data/{row['Essay']}.csv\"\n",
    "        df = pd.read_csv(filepath)\n",
    "    except FileNotFoundError as e:\n",
    "        print(e)\n",
    "        continue\n",
    "    \n",
    "    df['essay'] = row['Essay']\n",
    "    df['score'] = row['Holistic Score']\n",
    "\n",
    "    all_essays.append(df)"
   ]
  },
  {
   "cell_type": "code",
   "execution_count": 19,
   "metadata": {},
   "outputs": [
    {
     "data": {
      "text/html": [
       "<div>\n",
       "<style scoped>\n",
       "    .dataframe tbody tr th:only-of-type {\n",
       "        vertical-align: middle;\n",
       "    }\n",
       "\n",
       "    .dataframe tbody tr th {\n",
       "        vertical-align: top;\n",
       "    }\n",
       "\n",
       "    .dataframe thead th {\n",
       "        text-align: right;\n",
       "    }\n",
       "</style>\n",
       "<table border=\"1\" class=\"dataframe\">\n",
       "  <thead>\n",
       "    <tr style=\"text-align: right;\">\n",
       "      <th></th>\n",
       "      <th>discourse_id</th>\n",
       "      <th>discourse_part</th>\n",
       "      <th>discourse_boundary</th>\n",
       "      <th>discourse_text</th>\n",
       "      <th>adjudicated_discourse_type</th>\n",
       "      <th>adjudicated_effectiveness</th>\n",
       "      <th>adjudicated_hierarchical</th>\n",
       "      <th>adjudicated_parallel</th>\n",
       "      <th>essay</th>\n",
       "      <th>score</th>\n",
       "    </tr>\n",
       "  </thead>\n",
       "  <tbody>\n",
       "    <tr>\n",
       "      <th>0</th>\n",
       "      <td>1_MSU_essay|Paragraph_1|Nonannotated|0,20</td>\n",
       "      <td>Paragraph_1</td>\n",
       "      <td>(0, 20)</td>\n",
       "      <td>Heroes or Celebrities</td>\n",
       "      <td>Nonannotated</td>\n",
       "      <td>-</td>\n",
       "      <td>-</td>\n",
       "      <td>-</td>\n",
       "      <td>1_MSU_essay</td>\n",
       "      <td>5.0</td>\n",
       "    </tr>\n",
       "    <tr>\n",
       "      <th>1</th>\n",
       "      <td>1_MSU_essay|Paragraph_2|Nonannotated|0,565</td>\n",
       "      <td>Paragraph_2</td>\n",
       "      <td>(0, 565)</td>\n",
       "      <td>Celebrities and heroes are often confused in t...</td>\n",
       "      <td>Nonannotated</td>\n",
       "      <td>-</td>\n",
       "      <td>-</td>\n",
       "      <td>-</td>\n",
       "      <td>1_MSU_essay</td>\n",
       "      <td>5.0</td>\n",
       "    </tr>\n",
       "    <tr>\n",
       "      <th>2</th>\n",
       "      <td>1_MSU_essay|Paragraph_2|Final_Claim|567,660</td>\n",
       "      <td>Paragraph_2</td>\n",
       "      <td>(567, 660)</td>\n",
       "      <td>This idea of a hero has been forgotten and sho...</td>\n",
       "      <td>Final_Claim</td>\n",
       "      <td>adequate</td>\n",
       "      <td>-</td>\n",
       "      <td>-</td>\n",
       "      <td>1_MSU_essay</td>\n",
       "      <td>5.0</td>\n",
       "    </tr>\n",
       "    <tr>\n",
       "      <th>3</th>\n",
       "      <td>1_MSU_essay|Paragraph_3|Data|0,519</td>\n",
       "      <td>Paragraph_3</td>\n",
       "      <td>(0, 519)</td>\n",
       "      <td>How does one define a hero? Is it because of t...</td>\n",
       "      <td>Data</td>\n",
       "      <td>effective</td>\n",
       "      <td>Paragraph_3|Primary_Claim|521,628</td>\n",
       "      <td>-</td>\n",
       "      <td>1_MSU_essay</td>\n",
       "      <td>5.0</td>\n",
       "    </tr>\n",
       "    <tr>\n",
       "      <th>4</th>\n",
       "      <td>1_MSU_essay|Paragraph_3|Primary_Claim|521,628</td>\n",
       "      <td>Paragraph_3</td>\n",
       "      <td>(521, 628)</td>\n",
       "      <td>Although many people do heroic things, they ar...</td>\n",
       "      <td>Primary_Claim</td>\n",
       "      <td>effective</td>\n",
       "      <td>Paragraph_2|Final_Claim|567,660</td>\n",
       "      <td>Paragraph_4|Primary_Claim|449,553</td>\n",
       "      <td>1_MSU_essay</td>\n",
       "      <td>5.0</td>\n",
       "    </tr>\n",
       "    <tr>\n",
       "      <th>...</th>\n",
       "      <td>...</td>\n",
       "      <td>...</td>\n",
       "      <td>...</td>\n",
       "      <td>...</td>\n",
       "      <td>...</td>\n",
       "      <td>...</td>\n",
       "      <td>...</td>\n",
       "      <td>...</td>\n",
       "      <td>...</td>\n",
       "      <td>...</td>\n",
       "    </tr>\n",
       "    <tr>\n",
       "      <th>2259</th>\n",
       "      <td>9b_MSU_essay|Paragraph_2|Data|130,443</td>\n",
       "      <td>Paragraph_2</td>\n",
       "      <td>(130, 443)</td>\n",
       "      <td>The first time a person learns that a certain ...</td>\n",
       "      <td>Data</td>\n",
       "      <td>adequate</td>\n",
       "      <td>Paragraph_2|Primary_Claim|0,128</td>\n",
       "      <td>-</td>\n",
       "      <td>9b_MSU_essay</td>\n",
       "      <td>3.5</td>\n",
       "    </tr>\n",
       "    <tr>\n",
       "      <th>2260</th>\n",
       "      <td>9b_MSU_essay|Paragraph_3|Primary_Claim|0,170</td>\n",
       "      <td>Paragraph_3</td>\n",
       "      <td>(0, 170)</td>\n",
       "      <td>It is hard for people to develop new original ...</td>\n",
       "      <td>Primary_Claim</td>\n",
       "      <td>adequate</td>\n",
       "      <td>Paragraph_1|Final_Claim|142,726</td>\n",
       "      <td>Paragraph_2|Primary_Claim|0,128; Paragraph_4|P...</td>\n",
       "      <td>9b_MSU_essay</td>\n",
       "      <td>3.5</td>\n",
       "    </tr>\n",
       "    <tr>\n",
       "      <th>2261</th>\n",
       "      <td>9b_MSU_essay|Paragraph_3|Data|172,489</td>\n",
       "      <td>Paragraph_3</td>\n",
       "      <td>(172, 489)</td>\n",
       "      <td>For example, producers of TV shows strive to p...</td>\n",
       "      <td>Data</td>\n",
       "      <td>adequate</td>\n",
       "      <td>Paragraph_3|Primary_Claim|0,170</td>\n",
       "      <td>-</td>\n",
       "      <td>9b_MSU_essay</td>\n",
       "      <td>3.5</td>\n",
       "    </tr>\n",
       "    <tr>\n",
       "      <th>2262</th>\n",
       "      <td>9b_MSU_essay|Paragraph_4|Primary_Claim|0,174</td>\n",
       "      <td>Paragraph_4</td>\n",
       "      <td>(0, 174)</td>\n",
       "      <td>Almost every product one can think of has alre...</td>\n",
       "      <td>Primary_Claim</td>\n",
       "      <td>adequate</td>\n",
       "      <td>Paragraph_1|Final_Claim|142,726</td>\n",
       "      <td>Paragraph_2|Primary_Claim|0,128; Paragraph_3|P...</td>\n",
       "      <td>9b_MSU_essay</td>\n",
       "      <td>3.5</td>\n",
       "    </tr>\n",
       "    <tr>\n",
       "      <th>2263</th>\n",
       "      <td>9b_MSU_essay|Paragraph_4|Data|176,368</td>\n",
       "      <td>Paragraph_4</td>\n",
       "      <td>(176, 368)</td>\n",
       "      <td>For example, video game consoles have been aro...</td>\n",
       "      <td>Data</td>\n",
       "      <td>adequate</td>\n",
       "      <td>Paragraph_4|Primary_Claim|0,174</td>\n",
       "      <td>-</td>\n",
       "      <td>9b_MSU_essay</td>\n",
       "      <td>3.5</td>\n",
       "    </tr>\n",
       "  </tbody>\n",
       "</table>\n",
       "<p>2264 rows × 10 columns</p>\n",
       "</div>"
      ],
      "text/plain": [
       "                                       discourse_id discourse_part  \\\n",
       "0         1_MSU_essay|Paragraph_1|Nonannotated|0,20    Paragraph_1   \n",
       "1        1_MSU_essay|Paragraph_2|Nonannotated|0,565    Paragraph_2   \n",
       "2       1_MSU_essay|Paragraph_2|Final_Claim|567,660    Paragraph_2   \n",
       "3                1_MSU_essay|Paragraph_3|Data|0,519    Paragraph_3   \n",
       "4     1_MSU_essay|Paragraph_3|Primary_Claim|521,628    Paragraph_3   \n",
       "...                                             ...            ...   \n",
       "2259          9b_MSU_essay|Paragraph_2|Data|130,443    Paragraph_2   \n",
       "2260   9b_MSU_essay|Paragraph_3|Primary_Claim|0,170    Paragraph_3   \n",
       "2261          9b_MSU_essay|Paragraph_3|Data|172,489    Paragraph_3   \n",
       "2262   9b_MSU_essay|Paragraph_4|Primary_Claim|0,174    Paragraph_4   \n",
       "2263          9b_MSU_essay|Paragraph_4|Data|176,368    Paragraph_4   \n",
       "\n",
       "     discourse_boundary                                     discourse_text  \\\n",
       "0               (0, 20)                              Heroes or Celebrities   \n",
       "1              (0, 565)  Celebrities and heroes are often confused in t...   \n",
       "2            (567, 660)  This idea of a hero has been forgotten and sho...   \n",
       "3              (0, 519)  How does one define a hero? Is it because of t...   \n",
       "4            (521, 628)  Although many people do heroic things, they ar...   \n",
       "...                 ...                                                ...   \n",
       "2259         (130, 443)  The first time a person learns that a certain ...   \n",
       "2260           (0, 170)  It is hard for people to develop new original ...   \n",
       "2261         (172, 489)  For example, producers of TV shows strive to p...   \n",
       "2262           (0, 174)  Almost every product one can think of has alre...   \n",
       "2263         (176, 368)  For example, video game consoles have been aro...   \n",
       "\n",
       "     adjudicated_discourse_type adjudicated_effectiveness  \\\n",
       "0                  Nonannotated                         -   \n",
       "1                  Nonannotated                         -   \n",
       "2                   Final_Claim                  adequate   \n",
       "3                          Data                 effective   \n",
       "4                 Primary_Claim                 effective   \n",
       "...                         ...                       ...   \n",
       "2259                       Data                  adequate   \n",
       "2260              Primary_Claim                  adequate   \n",
       "2261                       Data                  adequate   \n",
       "2262              Primary_Claim                  adequate   \n",
       "2263                       Data                  adequate   \n",
       "\n",
       "               adjudicated_hierarchical  \\\n",
       "0                                     -   \n",
       "1                                     -   \n",
       "2                                     -   \n",
       "3     Paragraph_3|Primary_Claim|521,628   \n",
       "4       Paragraph_2|Final_Claim|567,660   \n",
       "...                                 ...   \n",
       "2259    Paragraph_2|Primary_Claim|0,128   \n",
       "2260    Paragraph_1|Final_Claim|142,726   \n",
       "2261    Paragraph_3|Primary_Claim|0,170   \n",
       "2262    Paragraph_1|Final_Claim|142,726   \n",
       "2263    Paragraph_4|Primary_Claim|0,174   \n",
       "\n",
       "                                   adjudicated_parallel         essay  score  \n",
       "0                                                     -   1_MSU_essay    5.0  \n",
       "1                                                     -   1_MSU_essay    5.0  \n",
       "2                                                     -   1_MSU_essay    5.0  \n",
       "3                                                     -   1_MSU_essay    5.0  \n",
       "4                     Paragraph_4|Primary_Claim|449,553   1_MSU_essay    5.0  \n",
       "...                                                 ...           ...    ...  \n",
       "2259                                                  -  9b_MSU_essay    3.5  \n",
       "2260  Paragraph_2|Primary_Claim|0,128; Paragraph_4|P...  9b_MSU_essay    3.5  \n",
       "2261                                                  -  9b_MSU_essay    3.5  \n",
       "2262  Paragraph_2|Primary_Claim|0,128; Paragraph_3|P...  9b_MSU_essay    3.5  \n",
       "2263                                                  -  9b_MSU_essay    3.5  \n",
       "\n",
       "[2264 rows x 10 columns]"
      ]
     },
     "execution_count": 19,
     "metadata": {},
     "output_type": "execute_result"
    }
   ],
   "source": [
    "annot = pd.concat(all_essays, ignore_index=True)\n",
    "annot"
   ]
  },
  {
   "cell_type": "code",
   "execution_count": 13,
   "metadata": {},
   "outputs": [],
   "source": [
    "gpt_sifr = GPT2PPL()"
   ]
  },
  {
   "cell_type": "code",
   "execution_count": 22,
   "metadata": {},
   "outputs": [
    {
     "data": {
      "text/plain": [
       "421"
      ]
     },
     "execution_count": 22,
     "metadata": {},
     "output_type": "execute_result"
    }
   ],
   "source": [
    "gpt_sifr.getPPL(annot['discourse_text'][0])"
   ]
  },
  {
   "cell_type": "code",
   "execution_count": 23,
   "metadata": {},
   "outputs": [],
   "source": [
    "annot['ppl'] = annot['discourse_text'].apply(gpt_sifr.getPPL)"
   ]
  },
  {
   "cell_type": "code",
   "execution_count": 25,
   "metadata": {},
   "outputs": [],
   "source": [
    "annot.to_csv(f\"{DATADIR}/AnnotsWithPPL.csv\")"
   ]
  },
  {
   "attachments": {},
   "cell_type": "markdown",
   "metadata": {},
   "source": [
    "## For uploading to GPTZero"
   ]
  },
  {
   "cell_type": "code",
   "execution_count": 20,
   "metadata": {},
   "outputs": [],
   "source": [
    "def export_essays(essays, folder = \"Exports\", extension = \"txt\"):\n",
    "    assert 'Text' in essays.columns\n",
    "\n",
    "    def export(row):\n",
    "        filename = os.path.join(DATADIR, folder, f\"{row['Essay']}.{extension}\")\n",
    "        with open(filename, 'w', encoding='utf-8') as file:\n",
    "            file.write(row['Text'])\n",
    "    \n",
    "    essays.apply(export, axis=1)"
   ]
  },
  {
   "cell_type": "code",
   "execution_count": 21,
   "metadata": {},
   "outputs": [],
   "source": [
    "export_essays(essays)"
   ]
  },
  {
   "attachments": {},
   "cell_type": "markdown",
   "metadata": {},
   "source": [
    "# GPTZero\n",
    "\n",
    "The class GPTZeroAPI comes courtesy of https://github.com/Haste171/gptzero.\n",
    "\n",
    "See https://gptzero.me/docs for more details."
   ]
  },
  {
   "cell_type": "code",
   "execution_count": null,
   "metadata": {},
   "outputs": [],
   "source": [
    "class GPTZeroAPI:\n",
    "\n",
    "    def __init__(self, api_key):\n",
    "        self.api_key = api_key\n",
    "        self.base_url = 'https://api.gptzero.me/v2/predict'\n",
    "    \n",
    "    def text_predict(self, document):\n",
    "        url = f'{self.base_url}/text'\n",
    "        headers = {\n",
    "            'accept': 'application/json',\n",
    "            'X-Api-Key': self.api_key,\n",
    "            'Content-Type': 'application/json'\n",
    "        }\n",
    "        data = {\n",
    "            'document': document\n",
    "        }\n",
    "        response = requests.post(url, headers=headers, json=data)\n",
    "        return response.json()"
   ]
  },
  {
   "attachments": {},
   "cell_type": "markdown",
   "metadata": {},
   "source": [
    "# Tayyab and Chua's Implementation\n",
    "\n",
    "GPTZero costs money to use the API :(\n",
    "\n",
    "Let's try this version instead, where Tayyab and Chua attempt to imitate\n",
    "GPTZero's methods. They claim that they achieve the same results.\n",
    "\n",
    "https://github.com/BurhanUlTayyab/GPTZero"
   ]
  },
  {
   "cell_type": "code",
   "execution_count": 11,
   "metadata": {},
   "outputs": [
    {
     "name": "stderr",
     "output_type": "stream",
     "text": [
      "d:\\SadPrograms\\anaconda\\envs\\openai\\lib\\site-packages\\tqdm\\auto.py:22: TqdmWarning: IProgress not found. Please update jupyter and ipywidgets. See https://ipywidgets.readthedocs.io/en/stable/user_install.html\n",
      "  from .autonotebook import tqdm as notebook_tqdm\n"
     ]
    }
   ],
   "source": [
    "import torch\n",
    "import re\n",
    "from transformers import GPT2LMHeadModel, GPT2TokenizerFast\n",
    "from collections import OrderedDict"
   ]
  },
  {
   "cell_type": "code",
   "execution_count": 12,
   "metadata": {},
   "outputs": [],
   "source": [
    "class GPT2PPL:\n",
    "\n",
    "    def __init__(self, device = \"cpu\", model_id = \"gpt2\"):\n",
    "        self.device = device\n",
    "        self.model_id = model_id\n",
    "        self.model = GPT2LMHeadModel.from_pretrained(model_id).to(device)\n",
    "        self.tokenizer = GPT2TokenizerFast.from_pretrained(model_id)\n",
    "\n",
    "        self.max_length = self.model.config.n_positions\n",
    "        self.stride = 512\n",
    "\n",
    "    def __call__(self, sentence):\n",
    "        \"\"\"Take a sentence split by full stop and print perplexity.\n",
    "        \n",
    "        Burstiness is the max perplexity of each sentence.\n",
    "        \"\"\"\n",
    "        results = OrderedDict()\n",
    "\n",
    "        total_valid_char = re.findall(\"[a-zA-Z0-9]+\", sentence)\n",
    "        total_valid_char = sum([len(x) for x in total_valid_char])\n",
    "\n",
    "        # print(total_valid_char)\n",
    "        # assert total_valid_char >= 100\n",
    "        if total_valid_char < 100:\n",
    "            return\n",
    "\n",
    "        lines = re.split(r'(?<=[.?!][ \\[\\(])|(?<=\\n)\\s*', sentence)\n",
    "        lines = list(filter(lambda x: (x is not None) and (len(x) > 0), lines))\n",
    "\n",
    "        ppl = self.getPPL(sentence)\n",
    "        results['perplexity'] = ppl\n",
    "\n",
    "        offset = \"\"\n",
    "        ppl_per_line = []\n",
    "        for line in lines:\n",
    "            if re.search(\"[a-zA-Z0-9]+\", line) == None:\n",
    "                continue\n",
    "            if len(offset) > 0:\n",
    "                line = offset + line\n",
    "                offset = \"\"\n",
    "            \n",
    "            # remove the new line or space in the first sentence if it exists\n",
    "            if line[0] == '\\n' or line[0] == ' ':\n",
    "                line = line[1:]\n",
    "            if line[-1] == '\\n' or line[-1] == ' ':\n",
    "                line = line[:-1]\n",
    "            elif line[-1] == '[' or line[-1] == '(':\n",
    "                offset = line[-1]\n",
    "                line = line[:-1]\n",
    "            \n",
    "            ppl = self.getPPL(line)\n",
    "            ppl_per_line.append(ppl)\n",
    "    \n",
    "        results['ppl_per_line'] = sum(ppl_per_line) / len(ppl_per_line)\n",
    "        results['burstiness'] = max(ppl_per_line)\n",
    "\n",
    "        return results\n",
    "\n",
    "    def getPPL(self, sentence):\n",
    "        encodings = self.tokenizer(sentence, return_tensors = \"pt\")\n",
    "        seq_len = encodings.input_ids.size(1)\n",
    "\n",
    "        nlls = []\n",
    "        likelihoods = []\n",
    "        prev_end_loc = 0\n",
    "        for begin_loc in range(0, seq_len, self.stride):\n",
    "            end_loc = min(begin_loc + self.max_length, seq_len)\n",
    "            trg_len = end_loc - prev_end_loc\n",
    "            input_ids = encodings.input_ids[:, begin_loc:end_loc]\n",
    "            input_ids = input_ids.to(self.device)\n",
    "            target_ids = input_ids.clone()\n",
    "            target_ids[:, :-trg_len] = -100\n",
    "\n",
    "            with torch.no_grad():\n",
    "                outputs = self.model(input_ids, labels = target_ids)\n",
    "                neg_log_likelihood = outputs.loss * trg_len\n",
    "                likelihoods.append(neg_log_likelihood)\n",
    "            \n",
    "            nlls.append(neg_log_likelihood)\n",
    "\n",
    "            prev_end_loc = end_loc\n",
    "            if end_loc == seq_len:\n",
    "                break\n",
    "        \n",
    "        ppl = int(torch.exp(torch.stack(nlls).sum() / end_loc))\n",
    "        return ppl"
   ]
  },
  {
   "cell_type": "code",
   "execution_count": 33,
   "metadata": {},
   "outputs": [],
   "source": [
    "gpt_sifr = GPT2PPL()"
   ]
  },
  {
   "cell_type": "code",
   "execution_count": 34,
   "metadata": {},
   "outputs": [
    {
     "name": "stdout",
     "output_type": "stream",
     "text": [
      "1965\n"
     ]
    },
    {
     "data": {
      "text/plain": [
       "OrderedDict([('perplexity', 21),\n",
       "             ('ppl_per_line', 64.375),\n",
       "             ('burstiness', 421)])"
      ]
     },
     "execution_count": 34,
     "metadata": {},
     "output_type": "execute_result"
    }
   ],
   "source": [
    "gpt_sifr(essays['Text'][0])"
   ]
  },
  {
   "cell_type": "code",
   "execution_count": 35,
   "metadata": {},
   "outputs": [],
   "source": [
    "def averagePPL(text):\n",
    "    data = gpt_sifr(text)\n",
    "    return data['ppl_per_line']"
   ]
  },
  {
   "cell_type": "code",
   "execution_count": null,
   "metadata": {},
   "outputs": [],
   "source": [
    "essays['LinePPL'] = essays['Text'].apply(averagePPL)"
   ]
  },
  {
   "cell_type": "code",
   "execution_count": 37,
   "metadata": {},
   "outputs": [
    {
     "data": {
      "text/html": [
       "<div>\n",
       "<style scoped>\n",
       "    .dataframe tbody tr th:only-of-type {\n",
       "        vertical-align: middle;\n",
       "    }\n",
       "\n",
       "    .dataframe tbody tr th {\n",
       "        vertical-align: top;\n",
       "    }\n",
       "\n",
       "    .dataframe thead th {\n",
       "        text-align: right;\n",
       "    }\n",
       "</style>\n",
       "<table border=\"1\" class=\"dataframe\">\n",
       "  <thead>\n",
       "    <tr style=\"text-align: right;\">\n",
       "      <th></th>\n",
       "      <th>Essay</th>\n",
       "      <th>Number of words</th>\n",
       "      <th>Holistic Score</th>\n",
       "      <th>Text</th>\n",
       "      <th>LinePPL</th>\n",
       "    </tr>\n",
       "  </thead>\n",
       "  <tbody>\n",
       "    <tr>\n",
       "      <th>0</th>\n",
       "      <td>1_MSU_essay</td>\n",
       "      <td>426</td>\n",
       "      <td>5.0</td>\n",
       "      <td>Heroes or Celebrities\\nCelebrities and heroes ...</td>\n",
       "      <td>64.375000</td>\n",
       "    </tr>\n",
       "    <tr>\n",
       "      <th>1</th>\n",
       "      <td>10_MSU_essay</td>\n",
       "      <td>262</td>\n",
       "      <td>3.5</td>\n",
       "      <td>Musicians, artists, writers, scientists, and m...</td>\n",
       "      <td>46.083333</td>\n",
       "    </tr>\n",
       "    <tr>\n",
       "      <th>2</th>\n",
       "      <td>100_MSU_essay</td>\n",
       "      <td>191</td>\n",
       "      <td>2.5</td>\n",
       "      <td>People have the freedom to choose what they wa...</td>\n",
       "      <td>73.214286</td>\n",
       "    </tr>\n",
       "    <tr>\n",
       "      <th>3</th>\n",
       "      <td>100b_MSU_essay</td>\n",
       "      <td>233</td>\n",
       "      <td>3.5</td>\n",
       "      <td>Anyone can become a celebrity, but to become a...</td>\n",
       "      <td>69.727273</td>\n",
       "    </tr>\n",
       "    <tr>\n",
       "      <th>4</th>\n",
       "      <td>101_MSU_essay</td>\n",
       "      <td>365</td>\n",
       "      <td>1.5</td>\n",
       "      <td>Most people at a young age have those certain ...</td>\n",
       "      <td>94.900000</td>\n",
       "    </tr>\n",
       "    <tr>\n",
       "      <th>...</th>\n",
       "      <td>...</td>\n",
       "      <td>...</td>\n",
       "      <td>...</td>\n",
       "      <td>...</td>\n",
       "      <td>...</td>\n",
       "    </tr>\n",
       "    <tr>\n",
       "      <th>309</th>\n",
       "      <td>98_MSU_essay</td>\n",
       "      <td>542</td>\n",
       "      <td>4.5</td>\n",
       "      <td>In our modern day society, it has become commo...</td>\n",
       "      <td>46.407407</td>\n",
       "    </tr>\n",
       "    <tr>\n",
       "      <th>310</th>\n",
       "      <td>98b_MSU_essay</td>\n",
       "      <td>480</td>\n",
       "      <td>4.0</td>\n",
       "      <td>In an age of celebrity worship, where movie st...</td>\n",
       "      <td>71.562500</td>\n",
       "    </tr>\n",
       "    <tr>\n",
       "      <th>311</th>\n",
       "      <td>99_MSU_essay</td>\n",
       "      <td>357</td>\n",
       "      <td>2.5</td>\n",
       "      <td>A limo pulls up, cameras are constantly flashi...</td>\n",
       "      <td>60.941176</td>\n",
       "    </tr>\n",
       "    <tr>\n",
       "      <th>312</th>\n",
       "      <td>99b_MSU_essay</td>\n",
       "      <td>378</td>\n",
       "      <td>2.0</td>\n",
       "      <td>Heroes and celebrities are clearly different. ...</td>\n",
       "      <td>57.136364</td>\n",
       "    </tr>\n",
       "    <tr>\n",
       "      <th>313</th>\n",
       "      <td>9b_MSU_essay</td>\n",
       "      <td>358</td>\n",
       "      <td>3.5</td>\n",
       "      <td>Originality is purely a measure of what one kn...</td>\n",
       "      <td>46.687500</td>\n",
       "    </tr>\n",
       "  </tbody>\n",
       "</table>\n",
       "<p>314 rows × 5 columns</p>\n",
       "</div>"
      ],
      "text/plain": [
       "              Essay   Number of words  Holistic Score  \\\n",
       "0       1_MSU_essay               426             5.0   \n",
       "1      10_MSU_essay               262             3.5   \n",
       "2     100_MSU_essay               191             2.5   \n",
       "3    100b_MSU_essay               233             3.5   \n",
       "4     101_MSU_essay               365             1.5   \n",
       "..              ...               ...             ...   \n",
       "309    98_MSU_essay               542             4.5   \n",
       "310   98b_MSU_essay               480             4.0   \n",
       "311    99_MSU_essay               357             2.5   \n",
       "312   99b_MSU_essay               378             2.0   \n",
       "313    9b_MSU_essay               358             3.5   \n",
       "\n",
       "                                                  Text    LinePPL  \n",
       "0    Heroes or Celebrities\\nCelebrities and heroes ...  64.375000  \n",
       "1    Musicians, artists, writers, scientists, and m...  46.083333  \n",
       "2    People have the freedom to choose what they wa...  73.214286  \n",
       "3    Anyone can become a celebrity, but to become a...  69.727273  \n",
       "4    Most people at a young age have those certain ...  94.900000  \n",
       "..                                                 ...        ...  \n",
       "309  In our modern day society, it has become commo...  46.407407  \n",
       "310  In an age of celebrity worship, where movie st...  71.562500  \n",
       "311  A limo pulls up, cameras are constantly flashi...  60.941176  \n",
       "312  Heroes and celebrities are clearly different. ...  57.136364  \n",
       "313  Originality is purely a measure of what one kn...  46.687500  \n",
       "\n",
       "[314 rows x 5 columns]"
      ]
     },
     "execution_count": 37,
     "metadata": {},
     "output_type": "execute_result"
    }
   ],
   "source": [
    "essays"
   ]
  },
  {
   "cell_type": "code",
   "execution_count": 38,
   "metadata": {},
   "outputs": [],
   "source": [
    "essays.to_csv(os.path.join(DATADIR, \"EssaysWithPPL.csv\"))"
   ]
  },
  {
   "attachments": {},
   "cell_type": "markdown",
   "metadata": {},
   "source": [
    "# Testing for Difference between GPTZero and TayyabChua\n",
    "\n",
    "(Written 6pm, 4/2/2023)\n",
    "\n",
    "The TayyabChua algorithm is identifying as many essays as being as human-written as they are AI-generated. This is a mistake, as all of the essays were human-written. Is this an issue of GPTZero having a lot of false positives, or is it an issue of TayyabChua's implementation being imperfect?\n",
    "\n",
    "To test this, I am grabbing a random sample of 30 human-written essays from the Claim Identifican Corpus and finding their scores for both GPTZero and TayyabChua."
   ]
  },
  {
   "cell_type": "code",
   "execution_count": 2,
   "metadata": {},
   "outputs": [
    {
     "name": "stderr",
     "output_type": "stream",
     "text": [
      "d:\\SadPrograms\\anaconda\\envs\\openai\\lib\\site-packages\\rpy2\\robjects\\packages.py:367: UserWarning: The symbol 'quartz' is not in this R namespace/package.\n",
      "  warnings.warn(\n"
     ]
    }
   ],
   "source": [
    "import rpy2\n",
    "\n",
    "%load_ext rpy2.ipython"
   ]
  },
  {
   "cell_type": "code",
   "execution_count": 3,
   "metadata": {},
   "outputs": [
    {
     "name": "stdout",
     "output_type": "stream",
     "text": [
      "-- Attaching packages --------------------------------------- tidyverse 1.3.2 --\n",
      "v ggplot2 3.3.5     v purrr   0.3.4\n",
      "v tibble  3.1.8     v dplyr   1.0.8\n",
      "v tidyr   1.2.0     v stringr 1.4.0\n",
      "v readr   2.1.2     v forcats 0.5.1\n",
      "-- Conflicts ------------------------------------------ tidyverse_conflicts() --\n",
      "x dplyr::filter() masks stats::filter()\n",
      "x dplyr::lag()    masks stats::lag()\n"
     ]
    },
    {
     "name": "stderr",
     "output_type": "stream",
     "text": [
      "R[write to console]: \n",
      "Attaching package: 'magrittr'\n",
      "\n",
      "\n",
      "R[write to console]: The following object is masked from 'package:purrr':\n",
      "\n",
      "    set_names\n",
      "\n",
      "\n",
      "R[write to console]: The following object is masked from 'package:tidyr':\n",
      "\n",
      "    extract\n",
      "\n",
      "\n",
      "R[write to console]: \n",
      "Attaching package: 'janitor'\n",
      "\n",
      "\n",
      "R[write to console]: The following objects are masked from 'package:stats':\n",
      "\n",
      "    chisq.test, fisher.test\n",
      "\n",
      "\n"
     ]
    }
   ],
   "source": [
    "%%R\n",
    "library(tidyverse)  # for data manipulation and cleanup\n",
    "library(magrittr)   # for %>%\n",
    "library(stats)      # for qqnorm, qqplot\n",
    "library(janitor)\n",
    "\n",
    "setwd(\"D:/data/claim_identification_corpus\")"
   ]
  },
  {
   "attachments": {},
   "cell_type": "markdown",
   "metadata": {},
   "source": [
    "## Test 1\n",
    "\n",
    "We expect the result for the TayyabChua to be exactly the same as the result for GPTZero for every essay.\n",
    "\n",
    "$H_0: p_\\text{same} = 0$\n",
    "\n",
    "$H_\\alpha: p_\\text{same} > 0$\n",
    "\n",
    "$p_\\text{same}$ is the proportion of all essays in the Claim Identification Corpus that have the exact same perplexity score between GPTZero and TayyabChua (rounded to the nearest whole number)."
   ]
  },
  {
   "attachments": {},
   "cell_type": "markdown",
   "metadata": {},
   "source": [
    "### Random Sample"
   ]
  },
  {
   "cell_type": "code",
   "execution_count": 4,
   "metadata": {},
   "outputs": [
    {
     "name": "stdout",
     "output_type": "stream",
     "text": [
      "Rows: 30\n",
      "Columns: 6\n",
      "$ X          <int> 19, 24, 36, 38, 39, 41, 43, 69, 78, 84, 88, 104, 110, 120, ~\n",
      "$ filename   <chr> \"108b_MSU_essay\", \"111_MSU_essay\", \"125_MSU_essay\", \"126_MS~\n",
      "$ nwords     <int> 523, 308, 449, 351, 544, 387, 285, 261, 264, 398, 179, 348,~\n",
      "$ score      <dbl> 3.0, 4.0, 2.5, 2.0, 4.0, 4.5, 4.5, 4.0, 5.0, 3.5, 3.5, 3.0,~\n",
      "$ text       <chr> \"Heroes are those select people that we should look up to a~\n",
      "$ tayyabchao <dbl> 66.68000, 104.45000, 98.80000, 79.16000, 110.80488, 91.0625~\n"
     ]
    }
   ],
   "source": [
    "%%R\n",
    "set.seed(0)\n",
    "\n",
    "df <- read.csv(\"EssaysWithPPL.csv\") %>%\n",
    "    rename(filename = Essay,\n",
    "           nwords = Number.of.words,\n",
    "           score = Holistic.Score,\n",
    "           text = Text,\n",
    "           tayyabchao = LinePPL)\n",
    "\n",
    "rows <- df %>%\n",
    "    nrow %>%\n",
    "    sample(size=30) %>%\n",
    "    sort\n",
    "df <- df[rows, ]\n",
    "\n",
    "write.csv(df[c(\"filename\", \"tayyabchao\")], file='RandomSample.csv',\n",
    "          quote=FALSE)\n",
    "\n",
    "glimpse(df)"
   ]
  },
  {
   "attachments": {},
   "cell_type": "markdown",
   "metadata": {},
   "source": [
    "All files selected in the random sample were uploaded, one-by-one and manually, into the website app.gptzero.me/app/welcome. The average perplexity scores, burtiness scores, highest perplexities, and overall decisions were manually recorded in the file \"RandomSampleWithGPTZero.csv\".\n",
    "\n",
    "Notes:\n",
    " - The essay \"18b_MSU_essay\" has a TayyabChao score of 54.35 and a GPTZero score of 53.350. This is not a typo.\n",
    " - The qualitative category \"Your text may include parts written by an AI.\" seems to partition the analyzed text in a way that is out of the scope of Tayyab & Chao's algorithm."
   ]
  },
  {
   "attachments": {},
   "cell_type": "markdown",
   "metadata": {},
   "source": [
    "### Proportions Test"
   ]
  },
  {
   "cell_type": "code",
   "execution_count": 5,
   "metadata": {},
   "outputs": [
    {
     "name": "stdout",
     "output_type": "stream",
     "text": [
      "Rows: 30\n",
      "Columns: 7\n",
      "$ X          <int> 20, 25, 37, 39, 40, 42, 44, 70, 79, 85, 89, 105, 111, 121, ~\n",
      "$ filename   <chr> \"108b_MSU_essay\", \"111_MSU_essay\", \"125_MSU_essay\", \"126_MS~\n",
      "$ tayyabchao <dbl> 66.68000, 104.45000, 98.80000, 79.16000, 110.80488, 91.0625~\n",
      "$ gptzero    <dbl> 66.680, 104.450, 98.800, 79.160, 112.850, 91.063, 71.200, 3~\n",
      "$ burstiness <dbl> 61.515, 83.414, 98.235, 72.862, 150.151, 77.658, 32.601, 18~\n",
      "$ decision   <chr> \"Your text is likely to be written entirely by a human.\", \"~\n",
      "$ highestppl <int> 305, 283, 475, 333, 782, 288, 134, 75, 254, 182, 180, 247, ~\n"
     ]
    }
   ],
   "source": [
    "%%R\n",
    "df <- read.csv(\"RandomSampleWithGPTZero.csv\")\n",
    "glimpse(df)"
   ]
  },
  {
   "cell_type": "code",
   "execution_count": 6,
   "metadata": {},
   "outputs": [
    {
     "name": "stdout",
     "output_type": "stream",
     "text": [
      "[1] 0.2333333\n"
     ]
    }
   ],
   "source": [
    "%%R\n",
    "df$exactmatch <- janitor::round_half_up(df$tayyabchao) == janitor::round_half_up(df$gptzero)\n",
    "prop <- sum(!df$exactmatch) / nrow(df)\n",
    "prop"
   ]
  },
  {
   "attachments": {},
   "cell_type": "markdown",
   "metadata": {},
   "source": [
    "The proportion of essays in this random sample that do not have the same perplexity scores between GPTZero and the TayyabChao algorithm is 23.33%. This value is, well, greater than 0%, so we can be sure that the TayyabChao algorithm does not exactly match GPTZero's scores.\n",
    "\n",
    "Perhaps it would be worthwhile to find out what the distribution of differences looks like."
   ]
  },
  {
   "attachments": {},
   "cell_type": "markdown",
   "metadata": {},
   "source": [
    "## Test 2: Difference Distribution"
   ]
  },
  {
   "attachments": {},
   "cell_type": "markdown",
   "metadata": {},
   "source": [
    "We'd expect the perplexities given by TayyabChao and GPTZero to at least be similar. Therefore, we predict that the difference between the perplexity for a given essay as determined by TayyabChao and the perplexity determined by GPTZero is approximately 0.\n",
    "\n",
    "$H_0: \\mu_d = 0$\n",
    "\n",
    "$H_\\alpha: \\mu_d \\neq 0$\n",
    "\n",
    "$\\mu_d$ is the average difference between the TayyabChao perplexity and the GPTZero perplexity for each essay in the Claim Identification Corpus."
   ]
  },
  {
   "attachments": {},
   "cell_type": "markdown",
   "metadata": {},
   "source": [
    "### Visualizations"
   ]
  },
  {
   "cell_type": "code",
   "execution_count": 66,
   "metadata": {},
   "outputs": [
    {
     "data": {
      "image/png": "[encoded data removed]",
      "text/plain": [
       "<IPython.core.display.Image object>"
      ]
     },
     "metadata": {},
     "output_type": "display_data"
    }
   ],
   "source": [
    "%%R\n",
    "df$difference <- df$gptzero - df$tayyabchao\n",
    "hist(df$difference,\n",
    "     main = \"Histogram of Perplexity Differences\",\n",
    "     xlab = \"GPTZero - TayyabChao\")"
   ]
  },
  {
   "cell_type": "code",
   "execution_count": 64,
   "metadata": {},
   "outputs": [
    {
     "data": {
      "image/png": "[encoded data removed]",
      "text/plain": [
       "<IPython.core.display.Image object>"
      ]
     },
     "metadata": {},
     "output_type": "display_data"
    }
   ],
   "source": [
    "%%R\n",
    "qqnorm(df$difference, main = \"Q-Q Plot of Perplexity Differences\")\n",
    "qqline(df$difference)"
   ]
  },
  {
   "cell_type": "code",
   "execution_count": 68,
   "metadata": {},
   "outputs": [
    {
     "name": "stdout",
     "output_type": "stream",
     "text": [
      "\n",
      "\tPaired t-test\n",
      "\n",
      "data:  df$gptzero and df$tayyabchao\n",
      "t = -1.2757, df = 29, p-value = 0.2122\n",
      "alternative hypothesis: true difference in means is not equal to 0\n",
      "99 percent confidence interval:\n",
      " -0.9710903  0.3566243\n",
      "sample estimates:\n",
      "mean of the differences \n",
      "              -0.307233 \n",
      "\n"
     ]
    }
   ],
   "source": [
    "%%R\n",
    "t.test(x = df$gptzero, y = df$tayyabchao,\n",
    "       alternative = \"two.sided\", mu = 0, paired = TRUE, conf.level = 0.99)"
   ]
  },
  {
   "attachments": {},
   "cell_type": "markdown",
   "metadata": {},
   "source": [
    "Based on the resuling p-value of 0.2122, there is not enough evidence to reject the null hypothesis that $\\mu_d = 0$. Furthermore, we can expect 99% of all differences to be between -0.97 and 0.36, so the difference between GPTZero and TayyabChao's perplexities should be negligible."
   ]
  },
  {
   "attachments": {},
   "cell_type": "markdown",
   "metadata": {},
   "source": [
    "# Qualitative Analysis of GPTZero Sample"
   ]
  },
  {
   "cell_type": "code",
   "execution_count": 1,
   "metadata": {},
   "outputs": [
    {
     "name": "stderr",
     "output_type": "stream",
     "text": [
      "C:\\Users\\brigh\\AppData\\Roaming\\Python\\Python39\\site-packages\\rpy2\\robjects\\packages.py:367: UserWarning: The symbol 'quartz' is not in this R namespace/package.\n",
      "  warnings.warn(\n"
     ]
    }
   ],
   "source": [
    "import rpy2\n",
    "\n",
    "%load_ext rpy2.ipython"
   ]
  },
  {
   "cell_type": "code",
   "execution_count": 3,
   "metadata": {},
   "outputs": [
    {
     "name": "stderr",
     "output_type": "stream",
     "text": [
      "R[write to console]: Warning:\n",
      "R[write to console]:  package 'tidyverse' is in use and will not be installed\n",
      "\n",
      "R[write to console]: Installing package into 'C:/Users/brigh/AppData/Local/R/win-library/4.2'\n",
      "(as 'lib' is unspecified)\n",
      "\n"
     ]
    },
    {
     "name": "stdout",
     "output_type": "stream",
     "text": [
      "--- Please select a CRAN mirror for use in this session ---\n"
     ]
    },
    {
     "name": "stderr",
     "output_type": "stream",
     "text": [
      "Exception ignored from cffi callback <function _callback at 0x000001736C540AF0>:\n",
      "Traceback (most recent call last):\n",
      "  File \"C:\\Users\\brigh\\AppData\\Roaming\\Python\\Python39\\site-packages\\rpy2\\rinterface_lib\\callbacks.py\", line 329, in _callback\n",
      "    try:\n",
      "KeyboardInterrupt: \n",
      "R[write to console]: also installing the dependency 'cli'\n",
      "\n",
      "\n",
      "R[write to console]: trying URL 'https://repo.miserver.it.umich.edu/cran/bin/windows/contrib/4.2/cli_3.6.1.zip'\n",
      "\n",
      "R[write to console]: Content type 'application/octet-stream'\n",
      "R[write to console]:  length 1332145 bytes (1.3 MB)\n",
      "\n",
      "R[write to console]: downloaded 1.3 MB\n",
      "\n",
      "\n",
      "R[write to console]: trying URL 'https://repo.miserver.it.umich.edu/cran/bin/windows/contrib/4.2/tidyr_1.3.0.zip'\n",
      "\n",
      "R[write to console]: Content type 'application/octet-stream'\n",
      "R[write to console]:  length 1292573 bytes (1.2 MB)\n",
      "\n",
      "R[write to console]: downloaded 1.2 MB\n",
      "\n",
      "\n"
     ]
    },
    {
     "name": "stdout",
     "output_type": "stream",
     "text": [
      "package 'cli' successfully unpacked and MD5 sums checked\n"
     ]
    },
    {
     "name": "stderr",
     "output_type": "stream",
     "text": [
      "R[write to console]: Warning:\n",
      "R[write to console]:  cannot remove prior installation of package 'cli'\n",
      "\n",
      "R[write to console]: Warning:\n",
      "R[write to console]:  restored 'cli'\n",
      "\n"
     ]
    },
    {
     "name": "stdout",
     "output_type": "stream",
     "text": [
      "package 'tidyr' successfully unpacked and MD5 sums checked\n",
      "\n",
      "The downloaded binary packages are in\n",
      "\tC:\\Users\\brigh\\AppData\\Local\\Temp\\Rtmp8AqZCL\\downloaded_packages\n"
     ]
    },
    {
     "name": "stderr",
     "output_type": "stream",
     "text": [
      "R[write to console]: Installing package into 'C:/Users/brigh/AppData/Local/R/win-library/4.2'\n",
      "(as 'lib' is unspecified)\n",
      "\n",
      "R[write to console]: trying URL 'https://repo.miserver.it.umich.edu/cran/bin/windows/contrib/4.2/janitor_2.2.0.zip'\n",
      "\n",
      "R[write to console]: Content type 'application/octet-stream'\n",
      "R[write to console]:  length 286595 bytes (279 KB)\n",
      "\n",
      "R[write to console]: downloaded 279 KB\n",
      "\n",
      "\n"
     ]
    },
    {
     "name": "stdout",
     "output_type": "stream",
     "text": [
      "package 'janitor' successfully unpacked and MD5 sums checked\n",
      "\n",
      "The downloaded binary packages are in\n",
      "\tC:\\Users\\brigh\\AppData\\Local\\Temp\\Rtmp8AqZCL\\downloaded_packages\n"
     ]
    },
    {
     "name": "stderr",
     "output_type": "stream",
     "text": [
      "R[write to console]: Installing package into 'C:/Users/brigh/AppData/Local/R/win-library/4.2'\n",
      "(as 'lib' is unspecified)\n",
      "\n",
      "R[write to console]: trying URL 'https://repo.miserver.it.umich.edu/cran/bin/windows/contrib/4.2/plyr_1.8.8.zip'\n",
      "\n",
      "R[write to console]: Content type 'application/octet-stream'\n",
      "R[write to console]:  length 1153871 bytes (1.1 MB)\n",
      "\n",
      "R[write to console]: downloaded 1.1 MB\n",
      "\n",
      "\n"
     ]
    },
    {
     "name": "stdout",
     "output_type": "stream",
     "text": [
      "package 'plyr' successfully unpacked and MD5 sums checked\n",
      "\n",
      "The downloaded binary packages are in\n",
      "\tC:\\Users\\brigh\\AppData\\Local\\Temp\\Rtmp8AqZCL\\downloaded_packages\n"
     ]
    }
   ],
   "source": [
    "%%R\n",
    "# moved to a different computer and needed to reinstall\n",
    "install.packages(\"tidyverse\")\n",
    "install.packages(\"tidyr\")\n",
    "install.packages(\"janitor\")\n",
    "install.packages(\"plyr\")"
   ]
  },
  {
   "cell_type": "code",
   "execution_count": 4,
   "metadata": {},
   "outputs": [
    {
     "name": "stderr",
     "output_type": "stream",
     "text": [
      "R[write to console]: \n",
      "Attaching package: 'janitor'\n",
      "\n",
      "\n",
      "R[write to console]: The following objects are masked from 'package:stats':\n",
      "\n",
      "    chisq.test, fisher.test\n",
      "\n",
      "\n"
     ]
    }
   ],
   "source": [
    "%%R\n",
    "library(tidyverse)  # for data manipulation and cleanup\n",
    "library(magrittr)   # for %>%\n",
    "library(stats)      # for qqnorm, qqplot\n",
    "library(janitor)\n",
    "library(plyr)       # for count\n",
    "\n",
    "setwd(\"D:/data/claim_identification_corpus\")"
   ]
  },
  {
   "cell_type": "code",
   "execution_count": 5,
   "metadata": {},
   "outputs": [
    {
     "name": "stdout",
     "output_type": "stream",
     "text": [
      "   X       filename tayyabchao gptzero burstiness\n",
      "1 20 108b_MSU_essay    66.6800  66.680     61.515\n",
      "2 25  111_MSU_essay   104.4500 104.450     83.414\n",
      "3 37  125_MSU_essay    98.8000  98.800     98.235\n",
      "4 39  126_MSU_essay    79.1600  79.160     72.862\n",
      "5 40 126b_MSU_essay   110.8049 112.850    150.151\n",
      "6 42 127b_MSU_essay    91.0625  91.063     77.658\n",
      "                                                decision highestppl\n",
      "1 Your text is likely to be written entirely by a human.        305\n",
      "2 Your text is likely to be written entirely by a human.        283\n",
      "3 Your text is likely to be written entirely by a human.        475\n",
      "4          Your text may include parts written by an AI.        333\n",
      "5 Your text is likely to be written entirely by a human.        782\n",
      "6 Your text is likely to be written entirely by a human.        288\n"
     ]
    }
   ],
   "source": [
    "%%R\n",
    "df <- read.csv(\"RandomSampleWithGPTZero.csv\")\n",
    "df %>%\n",
    "    head"
   ]
  },
  {
   "cell_type": "code",
   "execution_count": 54,
   "metadata": {},
   "outputs": [
    {
     "name": "stdout",
     "output_type": "stream",
     "text": [
      "                                                                                    decision\n",
      "1                                     Your text is likely to be written entirely by a human.\n",
      "2                                          Your text is likely to be written entirely by AI.\n",
      "3 Your text is most likely human written but there are some sentences with low perplexities.\n",
      "4                                              Your text may include parts written by an AI.\n",
      "  freq\n",
      "1   16\n",
      "2    1\n",
      "3    2\n",
      "4   11\n"
     ]
    }
   ],
   "source": [
    "%%R\n",
    "count(df, \"decision\")"
   ]
  },
  {
   "cell_type": "code",
   "execution_count": 6,
   "metadata": {},
   "outputs": [],
   "source": [
    "%%R\n",
    "df$name[df$decision == \"Your text is likely to be written entirely by a human.\"] <- \"Human\"\n",
    "df$name[df$decision == \"Your text is likely to be written entirely by AI.\"] <- \"AI\"\n",
    "df$name[df$decision == \"Your text is most likely human written but there are some sentences with low perplexities.\"] <- \"Low PPL\"\n",
    "df$name[df$decision == \"Your text may include parts written by an AI.\"] <- \"Some AI\"\n",
    "\n",
    "df$binname <- \"AI\"\n",
    "df$binname[df$name == \"Human\"] <- \"Human\"\n",
    "df$binname[df$name == \"Low PPL\"] <- \"Human\""
   ]
  },
  {
   "cell_type": "code",
   "execution_count": 11,
   "metadata": {},
   "outputs": [],
   "source": [
    "%%R\n",
    "dfcount <- df %>%\n",
    "    count(\"name\")\n",
    "dfcount$name <- factor(dfcount$name,\n",
    "    c(\"Human\", \"Low PPL\", \"Some AI\", \"AI\")\n",
    ")\n",
    "\n",
    "dfcount %>%\n",
    "    ggplot(aes(x = name, y = freq)) +\n",
    "    geom_col(aes(fill = name), show.legend = FALSE) +\n",
    "    xlab(\"GPTZero Conclusion\") +\n",
    "    ylab(\"Frequency\") +\n",
    "    ggtitle(\"GPTZero's Decision on 30 Random Student Essays\") +\n",
    "    theme_bw() +\n",
    "    scale_fill_manual(\n",
    "        values = c(\"#6496c8\", \"#134169\", \"#fac864\", \"#840032\")\n",
    "    )\n",
    "\n",
    "ggsave(\n",
    "    \"decision_freq.png\",\n",
    "    width = 6,\n",
    "    height = 4\n",
    ")"
   ]
  },
  {
   "cell_type": "code",
   "execution_count": 64,
   "metadata": {},
   "outputs": [
    {
     "data": {
      "image/png": "[encoded data removed]",
      "text/plain": [
       "<IPython.core.display.Image object>"
      ]
     },
     "metadata": {},
     "output_type": "display_data"
    }
   ],
   "source": [
    "%%R\n",
    "dfhuman <- df[df$decision == \"Your text is likely to be written entirely by a human.\" & df$gptzero < 300,]\n",
    "hist(dfhuman$gptzero,\n",
    "     xlim = c(0, 150))"
   ]
  },
  {
   "cell_type": "code",
   "execution_count": 65,
   "metadata": {},
   "outputs": [
    {
     "data": {
      "image/png": "[encoded data removed]",
      "text/plain": [
       "<IPython.core.display.Image object>"
      ]
     },
     "metadata": {},
     "output_type": "display_data"
    }
   ],
   "source": [
    "%%R\n",
    "dfhuman <- df[df$decision == \"Your text may include parts written by an AI.\",]\n",
    "hist(dfhuman$gptzero,\n",
    "     xlim = c(0, 150))"
   ]
  },
  {
   "cell_type": "code",
   "execution_count": 100,
   "metadata": {},
   "outputs": [
    {
     "data": {
      "image/png": "[encoded data removed]",
      "text/plain": [
       "<IPython.core.display.Image object>"
      ]
     },
     "metadata": {},
     "output_type": "display_data"
    }
   ],
   "source": [
    "%%R\n",
    "ggplot(data = df,\n",
    "       aes(x = binname, y = gptzero)) +\n",
    "geom_violin(aes(fill = binname, color = binname)) +\n",
    "geom_point(\n",
    "       size = 2,\n",
    "       position = position_jitter(w = 0.025)\n",
    ") +\n",
    "theme_minimal()"
   ]
  }
 ],
 "metadata": {
  "kernelspec": {
   "display_name": "Python 3",
   "language": "python",
   "name": "python3"
  },
  "language_info": {
   "codemirror_mode": {
    "name": "ipython",
    "version": 3
   },
   "file_extension": ".py",
   "mimetype": "text/x-python",
   "name": "python",
   "nbconvert_exporter": "python",
   "pygments_lexer": "ipython3",
   "version": "3.9.0"
  },
  "orig_nbformat": 4
 },
 "nbformat": 4,
 "nbformat_minor": 2
}
